{
 "cells": [
  {
   "cell_type": "code",
   "execution_count": 2,
   "id": "633900fe",
   "metadata": {
    "ExecuteTime": {
     "end_time": "2022-08-24T06:42:24.383799Z",
     "start_time": "2022-08-24T06:42:21.861181Z"
    }
   },
   "outputs": [],
   "source": [
    "import numpy as np\n",
    "import pandas as pd\n",
    "import matplotlib.pyplot as plt\n",
    "import seaborn as sns\n",
    "from pandas.io.json import json_normalize\n",
    "import os "
   ]
  },
  {
   "cell_type": "markdown",
   "id": "f583aec1",
   "metadata": {},
   "source": [
    "## 주차별 week num 부여 -> 2022년 7월 마지막주차 부터 0으로 시작하여 desc"
   ]
  },
  {
   "cell_type": "code",
   "execution_count": 12,
   "id": "c95ff93b",
   "metadata": {
    "ExecuteTime": {
     "end_time": "2022-08-24T06:47:04.836059Z",
     "start_time": "2022-08-24T06:47:04.777127Z"
    }
   },
   "outputs": [
    {
     "data": {
      "text/html": [
       "<div>\n",
       "<style scoped>\n",
       "    .dataframe tbody tr th:only-of-type {\n",
       "        vertical-align: middle;\n",
       "    }\n",
       "\n",
       "    .dataframe tbody tr th {\n",
       "        vertical-align: top;\n",
       "    }\n",
       "\n",
       "    .dataframe thead th {\n",
       "        text-align: right;\n",
       "    }\n",
       "</style>\n",
       "<table border=\"1\" class=\"dataframe\">\n",
       "  <thead>\n",
       "    <tr style=\"text-align: right;\">\n",
       "      <th></th>\n",
       "      <th>rank</th>\n",
       "      <th>rank_change</th>\n",
       "      <th>app_name</th>\n",
       "      <th>publisher_name</th>\n",
       "      <th>google_rank</th>\n",
       "      <th>apple_rank</th>\n",
       "      <th>onestore_rank</th>\n",
       "    </tr>\n",
       "  </thead>\n",
       "  <tbody>\n",
       "    <tr>\n",
       "      <th>0</th>\n",
       "      <td>1</td>\n",
       "      <td>0.0</td>\n",
       "      <td>리니지2M</td>\n",
       "      <td>NCSOFT</td>\n",
       "      <td>1.0</td>\n",
       "      <td>1.0</td>\n",
       "      <td>NaN</td>\n",
       "    </tr>\n",
       "    <tr>\n",
       "      <th>1</th>\n",
       "      <td>2</td>\n",
       "      <td>0.0</td>\n",
       "      <td>리니지M</td>\n",
       "      <td>NCSOFT</td>\n",
       "      <td>2.0</td>\n",
       "      <td>2.0</td>\n",
       "      <td>NaN</td>\n",
       "    </tr>\n",
       "    <tr>\n",
       "      <th>2</th>\n",
       "      <td>3</td>\n",
       "      <td>0.0</td>\n",
       "      <td>라이즈 오브 킹덤즈</td>\n",
       "      <td>LilithGames</td>\n",
       "      <td>3.0</td>\n",
       "      <td>3.0</td>\n",
       "      <td>NaN</td>\n",
       "    </tr>\n",
       "    <tr>\n",
       "      <th>3</th>\n",
       "      <td>4</td>\n",
       "      <td>0.0</td>\n",
       "      <td>기적의 검</td>\n",
       "      <td>4399 KOREA</td>\n",
       "      <td>5.0</td>\n",
       "      <td>6.0</td>\n",
       "      <td>2.0</td>\n",
       "    </tr>\n",
       "    <tr>\n",
       "      <th>4</th>\n",
       "      <td>5</td>\n",
       "      <td>0.0</td>\n",
       "      <td>V4</td>\n",
       "      <td>NEXON Company</td>\n",
       "      <td>4.0</td>\n",
       "      <td>5.0</td>\n",
       "      <td>NaN</td>\n",
       "    </tr>\n",
       "    <tr>\n",
       "      <th>...</th>\n",
       "      <td>...</td>\n",
       "      <td>...</td>\n",
       "      <td>...</td>\n",
       "      <td>...</td>\n",
       "      <td>...</td>\n",
       "      <td>...</td>\n",
       "      <td>...</td>\n",
       "    </tr>\n",
       "    <tr>\n",
       "      <th>4015</th>\n",
       "      <td>26</td>\n",
       "      <td>-6.0</td>\n",
       "      <td>한게임 포커</td>\n",
       "      <td>NHN BIGFOOT</td>\n",
       "      <td>25.0</td>\n",
       "      <td>39.0</td>\n",
       "      <td>44.0</td>\n",
       "    </tr>\n",
       "    <tr>\n",
       "      <th>4016</th>\n",
       "      <td>27</td>\n",
       "      <td>-5.0</td>\n",
       "      <td>뮤오리진3</td>\n",
       "      <td>Webzen Inc.</td>\n",
       "      <td>21.0</td>\n",
       "      <td>47.0</td>\n",
       "      <td>NaN</td>\n",
       "    </tr>\n",
       "    <tr>\n",
       "      <th>4017</th>\n",
       "      <td>28</td>\n",
       "      <td>0.0</td>\n",
       "      <td>세븐나이츠 레볼루션</td>\n",
       "      <td>Netmarble</td>\n",
       "      <td>47.0</td>\n",
       "      <td>5.0</td>\n",
       "      <td>NaN</td>\n",
       "    </tr>\n",
       "    <tr>\n",
       "      <th>4018</th>\n",
       "      <td>29</td>\n",
       "      <td>6.0</td>\n",
       "      <td>제2의 나라: Cross Worlds</td>\n",
       "      <td>Netmarble</td>\n",
       "      <td>26.0</td>\n",
       "      <td>21.0</td>\n",
       "      <td>NaN</td>\n",
       "    </tr>\n",
       "    <tr>\n",
       "      <th>4019</th>\n",
       "      <td>30</td>\n",
       "      <td>8.0</td>\n",
       "      <td>R2M</td>\n",
       "      <td>Webzen Inc.</td>\n",
       "      <td>24.0</td>\n",
       "      <td>NaN</td>\n",
       "      <td>NaN</td>\n",
       "    </tr>\n",
       "  </tbody>\n",
       "</table>\n",
       "<p>4020 rows × 7 columns</p>\n",
       "</div>"
      ],
      "text/plain": [
       "      rank  rank_change              app_name publisher_name  google_rank  \\\n",
       "0        1          0.0                 리니지2M         NCSOFT          1.0   \n",
       "1        2          0.0                  리니지M         NCSOFT          2.0   \n",
       "2        3          0.0            라이즈 오브 킹덤즈    LilithGames          3.0   \n",
       "3        4          0.0                 기적의 검     4399 KOREA          5.0   \n",
       "4        5          0.0                    V4  NEXON Company          4.0   \n",
       "...    ...          ...                   ...            ...          ...   \n",
       "4015    26         -6.0                한게임 포커    NHN BIGFOOT         25.0   \n",
       "4016    27         -5.0                 뮤오리진3    Webzen Inc.         21.0   \n",
       "4017    28          0.0            세븐나이츠 레볼루션      Netmarble         47.0   \n",
       "4018    29          6.0  제2의 나라: Cross Worlds      Netmarble         26.0   \n",
       "4019    30          8.0                   R2M    Webzen Inc.         24.0   \n",
       "\n",
       "      apple_rank  onestore_rank  \n",
       "0            1.0            NaN  \n",
       "1            2.0            NaN  \n",
       "2            3.0            NaN  \n",
       "3            6.0            2.0  \n",
       "4            5.0            NaN  \n",
       "...          ...            ...  \n",
       "4015        39.0           44.0  \n",
       "4016        47.0            NaN  \n",
       "4017         5.0            NaN  \n",
       "4018        21.0            NaN  \n",
       "4019         NaN            NaN  \n",
       "\n",
       "[4020 rows x 7 columns]"
      ]
     },
     "execution_count": 12,
     "metadata": {},
     "output_type": "execute_result"
    }
   ],
   "source": [
    "df = pd.read_csv('C:/Users/X1Carbon/Desktop/mobile_revenue/mobile_revenue_rank_30.csv',encoding='utf-8')\n",
    "df"
   ]
  },
  {
   "cell_type": "code",
   "execution_count": 13,
   "id": "ae594b09",
   "metadata": {
    "ExecuteTime": {
     "end_time": "2022-08-24T06:47:07.085559Z",
     "start_time": "2022-08-24T06:47:07.048660Z"
    }
   },
   "outputs": [
    {
     "data": {
      "text/html": [
       "<div>\n",
       "<style scoped>\n",
       "    .dataframe tbody tr th:only-of-type {\n",
       "        vertical-align: middle;\n",
       "    }\n",
       "\n",
       "    .dataframe tbody tr th {\n",
       "        vertical-align: top;\n",
       "    }\n",
       "\n",
       "    .dataframe thead th {\n",
       "        text-align: right;\n",
       "    }\n",
       "</style>\n",
       "<table border=\"1\" class=\"dataframe\">\n",
       "  <thead>\n",
       "    <tr style=\"text-align: right;\">\n",
       "      <th></th>\n",
       "      <th>rank</th>\n",
       "      <th>rank_change</th>\n",
       "      <th>app_name</th>\n",
       "      <th>publisher_name</th>\n",
       "      <th>google_rank</th>\n",
       "      <th>apple_rank</th>\n",
       "      <th>onestore_rank</th>\n",
       "      <th>index_col</th>\n",
       "    </tr>\n",
       "  </thead>\n",
       "  <tbody>\n",
       "    <tr>\n",
       "      <th>0</th>\n",
       "      <td>1</td>\n",
       "      <td>0.0</td>\n",
       "      <td>리니지2M</td>\n",
       "      <td>NCSOFT</td>\n",
       "      <td>1.0</td>\n",
       "      <td>1.0</td>\n",
       "      <td>NaN</td>\n",
       "      <td>0</td>\n",
       "    </tr>\n",
       "    <tr>\n",
       "      <th>1</th>\n",
       "      <td>2</td>\n",
       "      <td>0.0</td>\n",
       "      <td>리니지M</td>\n",
       "      <td>NCSOFT</td>\n",
       "      <td>2.0</td>\n",
       "      <td>2.0</td>\n",
       "      <td>NaN</td>\n",
       "      <td>1</td>\n",
       "    </tr>\n",
       "    <tr>\n",
       "      <th>2</th>\n",
       "      <td>3</td>\n",
       "      <td>0.0</td>\n",
       "      <td>라이즈 오브 킹덤즈</td>\n",
       "      <td>LilithGames</td>\n",
       "      <td>3.0</td>\n",
       "      <td>3.0</td>\n",
       "      <td>NaN</td>\n",
       "      <td>2</td>\n",
       "    </tr>\n",
       "    <tr>\n",
       "      <th>3</th>\n",
       "      <td>4</td>\n",
       "      <td>0.0</td>\n",
       "      <td>기적의 검</td>\n",
       "      <td>4399 KOREA</td>\n",
       "      <td>5.0</td>\n",
       "      <td>6.0</td>\n",
       "      <td>2.0</td>\n",
       "      <td>3</td>\n",
       "    </tr>\n",
       "    <tr>\n",
       "      <th>4</th>\n",
       "      <td>5</td>\n",
       "      <td>0.0</td>\n",
       "      <td>V4</td>\n",
       "      <td>NEXON Company</td>\n",
       "      <td>4.0</td>\n",
       "      <td>5.0</td>\n",
       "      <td>NaN</td>\n",
       "      <td>4</td>\n",
       "    </tr>\n",
       "    <tr>\n",
       "      <th>...</th>\n",
       "      <td>...</td>\n",
       "      <td>...</td>\n",
       "      <td>...</td>\n",
       "      <td>...</td>\n",
       "      <td>...</td>\n",
       "      <td>...</td>\n",
       "      <td>...</td>\n",
       "      <td>...</td>\n",
       "    </tr>\n",
       "    <tr>\n",
       "      <th>4015</th>\n",
       "      <td>26</td>\n",
       "      <td>-6.0</td>\n",
       "      <td>한게임 포커</td>\n",
       "      <td>NHN BIGFOOT</td>\n",
       "      <td>25.0</td>\n",
       "      <td>39.0</td>\n",
       "      <td>44.0</td>\n",
       "      <td>4015</td>\n",
       "    </tr>\n",
       "    <tr>\n",
       "      <th>4016</th>\n",
       "      <td>27</td>\n",
       "      <td>-5.0</td>\n",
       "      <td>뮤오리진3</td>\n",
       "      <td>Webzen Inc.</td>\n",
       "      <td>21.0</td>\n",
       "      <td>47.0</td>\n",
       "      <td>NaN</td>\n",
       "      <td>4016</td>\n",
       "    </tr>\n",
       "    <tr>\n",
       "      <th>4017</th>\n",
       "      <td>28</td>\n",
       "      <td>0.0</td>\n",
       "      <td>세븐나이츠 레볼루션</td>\n",
       "      <td>Netmarble</td>\n",
       "      <td>47.0</td>\n",
       "      <td>5.0</td>\n",
       "      <td>NaN</td>\n",
       "      <td>4017</td>\n",
       "    </tr>\n",
       "    <tr>\n",
       "      <th>4018</th>\n",
       "      <td>29</td>\n",
       "      <td>6.0</td>\n",
       "      <td>제2의 나라: Cross Worlds</td>\n",
       "      <td>Netmarble</td>\n",
       "      <td>26.0</td>\n",
       "      <td>21.0</td>\n",
       "      <td>NaN</td>\n",
       "      <td>4018</td>\n",
       "    </tr>\n",
       "    <tr>\n",
       "      <th>4019</th>\n",
       "      <td>30</td>\n",
       "      <td>8.0</td>\n",
       "      <td>R2M</td>\n",
       "      <td>Webzen Inc.</td>\n",
       "      <td>24.0</td>\n",
       "      <td>NaN</td>\n",
       "      <td>NaN</td>\n",
       "      <td>4019</td>\n",
       "    </tr>\n",
       "  </tbody>\n",
       "</table>\n",
       "<p>4020 rows × 8 columns</p>\n",
       "</div>"
      ],
      "text/plain": [
       "      rank  rank_change              app_name publisher_name  google_rank  \\\n",
       "0        1          0.0                 리니지2M         NCSOFT          1.0   \n",
       "1        2          0.0                  리니지M         NCSOFT          2.0   \n",
       "2        3          0.0            라이즈 오브 킹덤즈    LilithGames          3.0   \n",
       "3        4          0.0                 기적의 검     4399 KOREA          5.0   \n",
       "4        5          0.0                    V4  NEXON Company          4.0   \n",
       "...    ...          ...                   ...            ...          ...   \n",
       "4015    26         -6.0                한게임 포커    NHN BIGFOOT         25.0   \n",
       "4016    27         -5.0                 뮤오리진3    Webzen Inc.         21.0   \n",
       "4017    28          0.0            세븐나이츠 레볼루션      Netmarble         47.0   \n",
       "4018    29          6.0  제2의 나라: Cross Worlds      Netmarble         26.0   \n",
       "4019    30          8.0                   R2M    Webzen Inc.         24.0   \n",
       "\n",
       "      apple_rank  onestore_rank  index_col  \n",
       "0            1.0            NaN          0  \n",
       "1            2.0            NaN          1  \n",
       "2            3.0            NaN          2  \n",
       "3            6.0            2.0          3  \n",
       "4            5.0            NaN          4  \n",
       "...          ...            ...        ...  \n",
       "4015        39.0           44.0       4015  \n",
       "4016        47.0            NaN       4016  \n",
       "4017         5.0            NaN       4017  \n",
       "4018        21.0            NaN       4018  \n",
       "4019         NaN            NaN       4019  \n",
       "\n",
       "[4020 rows x 8 columns]"
      ]
     },
     "execution_count": 13,
     "metadata": {},
     "output_type": "execute_result"
    }
   ],
   "source": [
    "df['index_col'] = df.index\n",
    "df"
   ]
  },
  {
   "cell_type": "code",
   "execution_count": 18,
   "id": "b0887185",
   "metadata": {
    "ExecuteTime": {
     "end_time": "2022-08-24T06:49:37.287353Z",
     "start_time": "2022-08-24T06:49:37.240594Z"
    }
   },
   "outputs": [
    {
     "data": {
      "text/html": [
       "<div>\n",
       "<style scoped>\n",
       "    .dataframe tbody tr th:only-of-type {\n",
       "        vertical-align: middle;\n",
       "    }\n",
       "\n",
       "    .dataframe tbody tr th {\n",
       "        vertical-align: top;\n",
       "    }\n",
       "\n",
       "    .dataframe thead th {\n",
       "        text-align: right;\n",
       "    }\n",
       "</style>\n",
       "<table border=\"1\" class=\"dataframe\">\n",
       "  <thead>\n",
       "    <tr style=\"text-align: right;\">\n",
       "      <th></th>\n",
       "      <th>week_num</th>\n",
       "      <th>rank</th>\n",
       "      <th>rank_change</th>\n",
       "      <th>app_name</th>\n",
       "      <th>publisher_name</th>\n",
       "      <th>google_rank</th>\n",
       "      <th>apple_rank</th>\n",
       "      <th>onestore_rank</th>\n",
       "      <th>index_col</th>\n",
       "    </tr>\n",
       "  </thead>\n",
       "  <tbody>\n",
       "    <tr>\n",
       "      <th>0</th>\n",
       "      <td>133</td>\n",
       "      <td>1</td>\n",
       "      <td>0.0</td>\n",
       "      <td>리니지2M</td>\n",
       "      <td>NCSOFT</td>\n",
       "      <td>1.0</td>\n",
       "      <td>1.0</td>\n",
       "      <td>NaN</td>\n",
       "      <td>0</td>\n",
       "    </tr>\n",
       "    <tr>\n",
       "      <th>1</th>\n",
       "      <td>133</td>\n",
       "      <td>2</td>\n",
       "      <td>0.0</td>\n",
       "      <td>리니지M</td>\n",
       "      <td>NCSOFT</td>\n",
       "      <td>2.0</td>\n",
       "      <td>2.0</td>\n",
       "      <td>NaN</td>\n",
       "      <td>1</td>\n",
       "    </tr>\n",
       "    <tr>\n",
       "      <th>2</th>\n",
       "      <td>133</td>\n",
       "      <td>3</td>\n",
       "      <td>0.0</td>\n",
       "      <td>라이즈 오브 킹덤즈</td>\n",
       "      <td>LilithGames</td>\n",
       "      <td>3.0</td>\n",
       "      <td>3.0</td>\n",
       "      <td>NaN</td>\n",
       "      <td>2</td>\n",
       "    </tr>\n",
       "    <tr>\n",
       "      <th>3</th>\n",
       "      <td>133</td>\n",
       "      <td>4</td>\n",
       "      <td>0.0</td>\n",
       "      <td>기적의 검</td>\n",
       "      <td>4399 KOREA</td>\n",
       "      <td>5.0</td>\n",
       "      <td>6.0</td>\n",
       "      <td>2.0</td>\n",
       "      <td>3</td>\n",
       "    </tr>\n",
       "    <tr>\n",
       "      <th>4</th>\n",
       "      <td>133</td>\n",
       "      <td>5</td>\n",
       "      <td>0.0</td>\n",
       "      <td>V4</td>\n",
       "      <td>NEXON Company</td>\n",
       "      <td>4.0</td>\n",
       "      <td>5.0</td>\n",
       "      <td>NaN</td>\n",
       "      <td>4</td>\n",
       "    </tr>\n",
       "    <tr>\n",
       "      <th>...</th>\n",
       "      <td>...</td>\n",
       "      <td>...</td>\n",
       "      <td>...</td>\n",
       "      <td>...</td>\n",
       "      <td>...</td>\n",
       "      <td>...</td>\n",
       "      <td>...</td>\n",
       "      <td>...</td>\n",
       "      <td>...</td>\n",
       "    </tr>\n",
       "    <tr>\n",
       "      <th>4015</th>\n",
       "      <td>0</td>\n",
       "      <td>26</td>\n",
       "      <td>-6.0</td>\n",
       "      <td>한게임 포커</td>\n",
       "      <td>NHN BIGFOOT</td>\n",
       "      <td>25.0</td>\n",
       "      <td>39.0</td>\n",
       "      <td>44.0</td>\n",
       "      <td>4015</td>\n",
       "    </tr>\n",
       "    <tr>\n",
       "      <th>4016</th>\n",
       "      <td>0</td>\n",
       "      <td>27</td>\n",
       "      <td>-5.0</td>\n",
       "      <td>뮤오리진3</td>\n",
       "      <td>Webzen Inc.</td>\n",
       "      <td>21.0</td>\n",
       "      <td>47.0</td>\n",
       "      <td>NaN</td>\n",
       "      <td>4016</td>\n",
       "    </tr>\n",
       "    <tr>\n",
       "      <th>4017</th>\n",
       "      <td>0</td>\n",
       "      <td>28</td>\n",
       "      <td>0.0</td>\n",
       "      <td>세븐나이츠 레볼루션</td>\n",
       "      <td>Netmarble</td>\n",
       "      <td>47.0</td>\n",
       "      <td>5.0</td>\n",
       "      <td>NaN</td>\n",
       "      <td>4017</td>\n",
       "    </tr>\n",
       "    <tr>\n",
       "      <th>4018</th>\n",
       "      <td>0</td>\n",
       "      <td>29</td>\n",
       "      <td>6.0</td>\n",
       "      <td>제2의 나라: Cross Worlds</td>\n",
       "      <td>Netmarble</td>\n",
       "      <td>26.0</td>\n",
       "      <td>21.0</td>\n",
       "      <td>NaN</td>\n",
       "      <td>4018</td>\n",
       "    </tr>\n",
       "    <tr>\n",
       "      <th>4019</th>\n",
       "      <td>0</td>\n",
       "      <td>30</td>\n",
       "      <td>8.0</td>\n",
       "      <td>R2M</td>\n",
       "      <td>Webzen Inc.</td>\n",
       "      <td>24.0</td>\n",
       "      <td>NaN</td>\n",
       "      <td>NaN</td>\n",
       "      <td>4019</td>\n",
       "    </tr>\n",
       "  </tbody>\n",
       "</table>\n",
       "<p>4020 rows × 9 columns</p>\n",
       "</div>"
      ],
      "text/plain": [
       "      week_num  rank  rank_change              app_name publisher_name  \\\n",
       "0          133     1          0.0                 리니지2M         NCSOFT   \n",
       "1          133     2          0.0                  리니지M         NCSOFT   \n",
       "2          133     3          0.0            라이즈 오브 킹덤즈    LilithGames   \n",
       "3          133     4          0.0                 기적의 검     4399 KOREA   \n",
       "4          133     5          0.0                    V4  NEXON Company   \n",
       "...        ...   ...          ...                   ...            ...   \n",
       "4015         0    26         -6.0                한게임 포커    NHN BIGFOOT   \n",
       "4016         0    27         -5.0                 뮤오리진3    Webzen Inc.   \n",
       "4017         0    28          0.0            세븐나이츠 레볼루션      Netmarble   \n",
       "4018         0    29          6.0  제2의 나라: Cross Worlds      Netmarble   \n",
       "4019         0    30          8.0                   R2M    Webzen Inc.   \n",
       "\n",
       "      google_rank  apple_rank  onestore_rank  index_col  \n",
       "0             1.0         1.0            NaN          0  \n",
       "1             2.0         2.0            NaN          1  \n",
       "2             3.0         3.0            NaN          2  \n",
       "3             5.0         6.0            2.0          3  \n",
       "4             4.0         5.0            NaN          4  \n",
       "...           ...         ...            ...        ...  \n",
       "4015         25.0        39.0           44.0       4015  \n",
       "4016         21.0        47.0            NaN       4016  \n",
       "4017         47.0         5.0            NaN       4017  \n",
       "4018         26.0        21.0            NaN       4018  \n",
       "4019         24.0         NaN            NaN       4019  \n",
       "\n",
       "[4020 rows x 9 columns]"
      ]
     },
     "execution_count": 18,
     "metadata": {},
     "output_type": "execute_result"
    }
   ],
   "source": [
    "share = 133 - df['index_col']//30\n",
    "df['week_num'] = share\n",
    "df "
   ]
  },
  {
   "cell_type": "markdown",
   "id": "e144e20e",
   "metadata": {},
   "source": [
    "리니지 2M 시각화 그래프 그리기"
   ]
  },
  {
   "cell_type": "code",
   "execution_count": 41,
   "id": "c460d4c4",
   "metadata": {
    "ExecuteTime": {
     "end_time": "2022-08-24T08:48:33.216616Z",
     "start_time": "2022-08-24T08:48:33.194675Z"
    }
   },
   "outputs": [
    {
     "data": {
      "text/plain": [
       "리니지2M                                               134\n",
       "라이즈 오브 킹덤즈                                          134\n",
       "기적의 검                                               134\n",
       "FIFA ONLINE 4 M by EA SPORTS™                       134\n",
       "블레이드&소울 레볼루션                                        134\n",
       "리니지M                                                134\n",
       "리니지2 레볼루션                                           123\n",
       "V4                                                  108\n",
       "바람의나라: 연                                            107\n",
       "원신                                                   86\n",
       "카트라이더 러쉬플러스                                          85\n",
       "배틀그라운드                                               80\n",
       "메이플스토리M                                              79\n",
       "뮤 아크엔젤                                               79\n",
       "쿠키런: 킹덤                                              77\n",
       "A3: 스틸얼라이브                                           75\n",
       "브롤스타즈                                                75\n",
       "삼국지 전략판                                              66\n",
       "R2M                                                  65\n",
       "한게임 포커                                               61\n",
       "피망 포커: 카지노 로얄 (7포커, 로우바둑이, 하이로우)                     60\n",
       "오딘: 발할라 라이징                                          57\n",
       "히어로즈 테일즈                                             55\n",
       "세븐나이츠2                                               55\n",
       "미르4                                                  53\n",
       "S.O.S: 스테이트 오브 서바이벌 x 더 워킹 데드                        52\n",
       "AFK 아레나                                              51\n",
       "피파모바일                                                47\n",
       "윈조이 포커 - 홀덤, 블랙잭, 바카라, 슬롯, 7포커, 로우바둑이, 뉴포커를 동시에!     46\n",
       "ROBLOX                                               46\n",
       "Name: app_name, dtype: int64"
      ]
     },
     "execution_count": 41,
     "metadata": {},
     "output_type": "execute_result"
    }
   ],
   "source": [
    "# 게임 갯수 세기\n",
    "\n",
    "df['app_name'].value_counts().head(30)"
   ]
  },
  {
   "cell_type": "code",
   "execution_count": 22,
   "id": "583ce67b",
   "metadata": {
    "ExecuteTime": {
     "end_time": "2022-08-24T08:26:01.677996Z",
     "start_time": "2022-08-24T08:26:01.664997Z"
    }
   },
   "outputs": [],
   "source": [
    "ln2 = df.loc[df['app_name'] == '리니지2M']"
   ]
  },
  {
   "cell_type": "code",
   "execution_count": 40,
   "id": "4000c2b2",
   "metadata": {
    "ExecuteTime": {
     "end_time": "2022-08-24T08:44:26.148954Z",
     "start_time": "2022-08-24T08:44:25.911514Z"
    }
   },
   "outputs": [
    {
     "data": {
      "image/png": "[encoded data removed]",
      "text/plain": [
       "<Figure size 576x432 with 1 Axes>"
      ]
     },
     "metadata": {
      "needs_background": "light"
     },
     "output_type": "display_data"
    }
   ],
   "source": [
    "plt.figure(figsize = (8, 6))\n",
    "plt.plot(ln2['week_num'],ln2['rank'])\n",
    "plt.ylim(20,0)\n",
    "plt.xlim(133,0)\n",
    "plt.show()"
   ]
  },
  {
   "cell_type": "code",
   "execution_count": null,
   "id": "cf6480a6",
   "metadata": {},
   "outputs": [],
   "source": [
    "#배틀 그라운드 시각화"
   ]
  },
  {
   "cell_type": "code",
   "execution_count": 42,
   "id": "49447cc8",
   "metadata": {
    "ExecuteTime": {
     "end_time": "2022-08-24T08:49:21.513380Z",
     "start_time": "2022-08-24T08:49:21.502412Z"
    }
   },
   "outputs": [],
   "source": [
    "bg = df.loc[df['app_name'] == '배틀그라운드']"
   ]
  },
  {
   "cell_type": "code",
   "execution_count": 44,
   "id": "25127ebe",
   "metadata": {
    "ExecuteTime": {
     "end_time": "2022-08-24T08:53:16.955806Z",
     "start_time": "2022-08-24T08:53:16.718633Z"
    }
   },
   "outputs": [
    {
     "data": {
      "image/png": "[encoded data removed]",
      "text/plain": [
       "<Figure size 576x432 with 1 Axes>"
      ]
     },
     "metadata": {
      "needs_background": "light"
     },
     "output_type": "display_data"
    }
   ],
   "source": [
    "plt.figure(figsize = (8, 6))\n",
    "plt.plot(bg['week_num'],bg['rank'],color = \"lightcoral\")\n",
    "plt.ylim(30,0)\n",
    "plt.xlim(133,0)\n",
    "plt.show()"
   ]
  },
  {
   "cell_type": "code",
   "execution_count": null,
   "id": "1bf8a8f8",
   "metadata": {},
   "outputs": [],
   "source": [
    "### 배틀 그라운드, 리니지2 한 그래프에"
   ]
  },
  {
   "cell_type": "code",
   "execution_count": 46,
   "id": "1685cade",
   "metadata": {
    "ExecuteTime": {
     "end_time": "2022-08-24T08:54:21.300992Z",
     "start_time": "2022-08-24T08:54:20.683109Z"
    }
   },
   "outputs": [
    {
     "data": {
      "image/png": "[encoded data removed]",
      "text/plain": [
       "<Figure size 576x432 with 1 Axes>"
      ]
     },
     "metadata": {
      "needs_background": "light"
     },
     "output_type": "display_data"
    }
   ],
   "source": [
    "plt.figure(figsize = (8, 6))\n",
    "plt.plot(ln2['week_num'],ln2['rank'])\n",
    "plt.plot(bg['week_num'],bg['rank'],color = \"lightcoral\")\n",
    "plt.ylim(30,0)\n",
    "plt.xlim(133,0)\n",
    "plt.show()"
   ]
  },
  {
   "cell_type": "code",
   "execution_count": null,
   "id": "5500c622",
   "metadata": {},
   "outputs": [],
   "source": []
  },
  {
   "cell_type": "code",
   "execution_count": null,
   "id": "b3b2937f",
   "metadata": {},
   "outputs": [],
   "source": []
  },
  {
   "cell_type": "code",
   "execution_count": null,
   "id": "3e3bc010",
   "metadata": {},
   "outputs": [],
   "source": []
  },
  {
   "cell_type": "code",
   "execution_count": null,
   "id": "0f83a08d",
   "metadata": {},
   "outputs": [],
   "source": []
  }
 ],
 "metadata": {
  "kernelspec": {
   "display_name": "Python 3 (ipykernel)",
   "language": "python",
   "name": "python3"
  },
  "language_info": {
   "codemirror_mode": {
    "name": "ipython",
    "version": 3
   },
   "file_extension": ".py",
   "mimetype": "text/x-python",
   "name": "python",
   "nbconvert_exporter": "python",
   "pygments_lexer": "ipython3",
   "version": "3.9.12"
  },
  "toc": {
   "base_numbering": 1,
   "nav_menu": {},
   "number_sections": true,
   "sideBar": true,
   "skip_h1_title": false,
   "title_cell": "Table of Contents",
   "title_sidebar": "Contents",
   "toc_cell": false,
   "toc_position": {},
   "toc_section_display": true,
   "toc_window_display": false
  }
 },
 "nbformat": 4,
 "nbformat_minor": 5
}
